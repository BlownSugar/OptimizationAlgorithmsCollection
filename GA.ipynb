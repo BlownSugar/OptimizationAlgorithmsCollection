{
 "cells": [
  {
   "cell_type": "code",
   "execution_count": 56,
   "id": "abb68c9b",
   "metadata": {
    "ExecuteTime": {
     "end_time": "2023-04-06T02:59:55.047017Z",
     "start_time": "2023-04-06T02:59:55.022097Z"
    }
   },
   "outputs": [],
   "source": [
    "import random\n",
    "\n",
    "# Define the fitness function to normalize the fitness of each solution based on the total fitness of the population\n",
    "def fitness_function(solution, population):\n",
    "    # Compute the fitness of the current solution\n",
    "    current_fitness = sum(solution)\n",
    "    \n",
    "    # Compute the total fitness of the population\n",
    "    total_fitness = sum([sum(other_solution) for other_solution in population])\n",
    "    \n",
    "    # Normalize the fitness of the current solution based on the total fitness of the population\n",
    "    fitness = current_fitness / total_fitness\n",
    "    \n",
    "    return fitness\n",
    "\n",
    "# Generate an initial population of random solutions with more zeros than ones\n",
    "def generate_population(size, num_bits):\n",
    "    population = []\n",
    "    for i in range(size):\n",
    "        solution = random.choices([0, 1], weights=[0.95, 0.05], k=num_bits)\n",
    "        population.append(solution)\n",
    "    return population\n",
    "\n",
    "# Select parents for reproduction using tournament selection\n",
    "def select_parents(population, fitness_function, tournament_size):\n",
    "    tournament = random.sample(population, tournament_size)\n",
    "    tournament.sort(key=lambda x: fitness_function(x, population), reverse=True)\n",
    "    return tournament[0], tournament[1]\n",
    "\n",
    "# Perform crossover to produce two offspring from two parent solutions\n",
    "def crossover(parent1, parent2):\n",
    "    crossover_point = random.randint(1, len(parent1) - 1)\n",
    "    offspring1 = parent1[:crossover_point] + parent2[crossover_point:]\n",
    "    offspring2 = parent2[:crossover_point] + parent1[crossover_point:]\n",
    "    return offspring1, offspring2\n",
    "\n",
    "# Perform mutation on a solution by flipping a random bit\n",
    "def mutate(solution, mutation_rate):\n",
    "    for i in range(len(solution)):\n",
    "        if random.random() < mutation_rate:\n",
    "            solution[i] = 1 - solution[i]\n",
    "\n",
    "# Run the genetic algorithm to find the best solution\n",
    "def genetic_algorithm(population_size, num_bits, tournament_size, mutation_rate, num_generations):\n",
    "    population = generate_population(population_size, num_bits)\n",
    "    for i in range(num_generations):\n",
    "        # Evaluate the fitness of each solution in the population\n",
    "        fitness_values = [fitness_function(solution, population) for solution in population]\n",
    "\n",
    "        # Select the best solution in the population as the current best\n",
    "        current_best = population[fitness_values.index(max(fitness_values))]\n",
    "        \n",
    "        # Print the best solution in the population for each generation\n",
    "        print(\"Generation\", i, \"Best solution:\", current_best, \"Fitness:\", max(fitness_values))\n",
    "\n",
    "        # Create a new population by performing selection, crossover, and mutation\n",
    "        new_population = []\n",
    "        for j in range(population_size):\n",
    "            parent1, parent2 = select_parents(population, fitness_function, tournament_size)\n",
    "            offspring1, offspring2 = crossover(parent1, parent2)\n",
    "            mutate(offspring1, mutation_rate)\n",
    "            mutate(offspring2, mutation_rate)\n",
    "            new_population.append(offspring1)\n",
    "            new_population.append(offspring2)\n",
    "\n",
    "        # Replace the old population with the new population\n",
    "        population = new_population\n",
    "\n",
    "    # Return the best solution found by the algorithm\n",
    "    return current_best"
   ]
  },
  {
   "cell_type": "code",
   "execution_count": 59,
   "id": "ea215d27",
   "metadata": {
    "ExecuteTime": {
     "end_time": "2023-04-06T03:00:46.938026Z",
     "start_time": "2023-04-06T03:00:46.104510Z"
    }
   },
   "outputs": [
    {
     "name": "stdout",
     "output_type": "stream",
     "text": [
      "Generation 0 Best solution: [0, 0, 1, 1, 0, 0, 0, 1, 0, 0] Fitness: 0.06666666666666667\n",
      "Generation 1 Best solution: [1, 0, 1, 1, 0, 0, 0, 1, 0, 0] Fitness: 0.01990049751243781\n",
      "Generation 2 Best solution: [1, 0, 1, 0, 1, 0, 0, 1, 0, 0] Fitness: 0.012048192771084338\n",
      "Generation 3 Best solution: [1, 1, 0, 0, 1, 0, 0, 1, 0, 1] Fitness: 0.010330578512396695\n",
      "Generation 4 Best solution: [1, 0, 1, 1, 1, 0, 0, 1, 0, 0] Fitness: 0.008012820512820512\n",
      "Generation 5 Best solution: [1, 0, 1, 1, 1, 0, 0, 1, 0, 1] Fitness: 0.007936507936507936\n",
      "Generation 6 Best solution: [1, 0, 1, 1, 0, 1, 1, 1, 0, 1] Fitness: 0.007675438596491228\n",
      "Generation 7 Best solution: [1, 1, 1, 1, 1, 0, 1, 1, 0, 1] Fitness: 0.007532956685499058\n",
      "Generation 8 Best solution: [1, 1, 1, 1, 1, 0, 1, 1, 0, 1] Fitness: 0.0065040650406504065\n",
      "Generation 9 Best solution: [1, 1, 1, 1, 1, 1, 1, 1, 0, 1] Fitness: 0.006550218340611353\n",
      "Generation 10 Best solution: [1, 1, 1, 1, 1, 1, 1, 1, 1, 1] Fitness: 0.006720430107526882\n",
      "Generation 11 Best solution: [1, 1, 1, 1, 1, 1, 1, 1, 1, 1] Fitness: 0.006265664160401002\n",
      "Generation 12 Best solution: [1, 1, 1, 1, 1, 1, 1, 1, 1, 1] Fitness: 0.006031363088057901\n",
      "Generation 13 Best solution: [1, 1, 1, 1, 1, 1, 1, 1, 1, 1] Fitness: 0.005724098454493417\n",
      "Generation 14 Best solution: [1, 1, 1, 1, 1, 1, 1, 1, 1, 1] Fitness: 0.005521811154058531\n",
      "Best solution found: [1, 1, 1, 1, 1, 1, 1, 1, 1, 1]\n"
     ]
    }
   ],
   "source": [
    "best_solution = genetic_algorithm(population_size=100, num_bits=10, tournament_size=5, mutation_rate=0.001, num_generations=15)\n",
    "print(\"Best solution found:\", best_solution)"
   ]
  },
  {
   "cell_type": "code",
   "execution_count": 60,
   "id": "45570c65",
   "metadata": {
    "ExecuteTime": {
     "end_time": "2023-04-06T03:00:49.685819Z",
     "start_time": "2023-04-06T03:00:49.654046Z"
    }
   },
   "outputs": [],
   "source": [
    "import random\n",
    "\n",
    "# Define the fitness function to normalize the fitness of each solution based on the total fitness of the population\n",
    "def fitness_function(solution, population):\n",
    "    # Compute the fitness of the current solution\n",
    "    current_fitness = sum(solution)\n",
    "    \n",
    "    # Compute the total fitness of the population\n",
    "    total_fitness = sum([sum(other_solution) for other_solution in population])\n",
    "    \n",
    "    # Normalize the fitness of the current solution based on the total fitness of the population\n",
    "    fitness = current_fitness / total_fitness\n",
    "    \n",
    "    return fitness\n",
    "\n",
    "# Generate an initial population of random solutions with more zeros than ones\n",
    "def generate_population(size, num_bits):\n",
    "    population = []\n",
    "    for i in range(size):\n",
    "        solution = random.choices([0, 1], weights=[0.95, 0.05], k=num_bits)\n",
    "        population.append(solution)\n",
    "    return population\n",
    "\n",
    "# Select parents for reproduction using tournament selection\n",
    "def select_parents(population, fitness_function, tournament_size):\n",
    "    tournament = random.sample(population, tournament_size)\n",
    "    tournament.sort(key=lambda x: fitness_function(x, population), reverse=True)\n",
    "    return tournament[0], tournament[1]\n",
    "\n",
    "# Perform crossover to produce two offspring from two parent solutions\n",
    "def crossover(parent1, parent2):\n",
    "    crossover_point = random.randint(1, len(parent1) - 1)\n",
    "    offspring1 = parent1[:crossover_point] + parent2[crossover_point:]\n",
    "    offspring2 = parent2[:crossover_point] + parent1[crossover_point:]\n",
    "    return offspring1, offspring2\n",
    "\n",
    "# Perform mutation on a solution by flipping a random bit\n",
    "def mutate(solution, mutation_rate):\n",
    "    for i in range(len(solution)):\n",
    "        if random.random() < mutation_rate:\n",
    "            solution[i] = 1 - solution[i]\n",
    "\n",
    "# Run the genetic algorithm to find the best solution\n",
    "def genetic_algorithm(population_size, num_bits, tournament_size, initial_mutation_rate, mutation_rate_decay, num_generations):\n",
    "    population = generate_population(population_size, num_bits)\n",
    "    mutation_rate = initial_mutation_rate\n",
    "    for i in range(num_generations):\n",
    "        # Evaluate the fitness of each solution in the population\n",
    "        fitness_values = [fitness_function(solution, population) for solution in population]\n",
    "\n",
    "        # Select the best solution in the population as the current best\n",
    "        current_best = population[fitness_values.index(max(fitness_values))]\n",
    "        \n",
    "        # Print the best solution in the population for each generation\n",
    "        print(\"Generation\", i, \"Best solution:\", current_best, \"Fitness:\", max(fitness_values))\n",
    "\n",
    "        # Create a new population by performing selection, crossover, and mutation\n",
    "        new_population = []\n",
    "        for j in range(population_size):\n",
    "            parent1, parent2 = select_parents(population, fitness_function, tournament_size)\n",
    "            offspring1, offspring2 = crossover(parent1, parent2)\n",
    "            mutate(offspring1, mutation_rate)\n",
    "            mutate(offspring2, mutation_rate)\n",
    "            new_population.append(offspring1)\n",
    "            new_population.append(offspring2)\n",
    "\n",
    "        # Replace the old population with the new population\n",
    "        population = new_population\n",
    "\n",
    "        # Decay the mutation rate\n",
    "        mutation_rate *= mutation_rate_decay\n",
    "\n",
    "    # Return the best solution found by the algorithm\n",
    "    return current_best\n"
   ]
  },
  {
   "cell_type": "code",
   "execution_count": 62,
   "id": "74c1e67f",
   "metadata": {
    "ExecuteTime": {
     "end_time": "2023-04-06T03:01:11.550217Z",
     "start_time": "2023-04-06T03:01:10.481410Z"
    }
   },
   "outputs": [
    {
     "name": "stdout",
     "output_type": "stream",
     "text": [
      "Generation 0 Best solution: [1, 0, 0, 0, 0, 1, 0, 1, 1, 0] Fitness: 0.06896551724137931\n",
      "Generation 1 Best solution: [0, 1, 1, 1, 0, 0, 0, 1, 1, 0] Fitness: 0.020161290322580645\n",
      "Generation 2 Best solution: [0, 1, 1, 1, 0, 0, 0, 1, 0, 1] Fitness: 0.012437810945273632\n",
      "Generation 3 Best solution: [1, 0, 0, 1, 1, 0, 0, 1, 1, 0] Fitness: 0.008992805755395683\n",
      "Generation 4 Best solution: [0, 1, 1, 0, 0, 1, 1, 1, 1, 0] Fitness: 0.008426966292134831\n",
      "Generation 5 Best solution: [1, 0, 1, 1, 1, 1, 0, 1, 0, 1] Fitness: 0.00819672131147541\n",
      "Generation 6 Best solution: [1, 1, 1, 1, 0, 0, 1, 1, 0, 1] Fitness: 0.007063572149344097\n",
      "Generation 7 Best solution: [1, 0, 1, 1, 1, 0, 1, 1, 1, 1] Fitness: 0.007073386383731211\n",
      "Generation 8 Best solution: [1, 1, 1, 1, 1, 0, 1, 1, 1, 1] Fitness: 0.007014809041309431\n",
      "Generation 9 Best solution: [1, 1, 1, 1, 1, 1, 0, 1, 1, 1] Fitness: 0.006245662734212352\n",
      "Generation 10 Best solution: [1, 1, 1, 1, 1, 1, 1, 1, 1, 1] Fitness: 0.006459948320413436\n",
      "Generation 11 Best solution: [1, 1, 1, 1, 1, 1, 1, 1, 1, 1] Fitness: 0.005973715651135006\n",
      "Generation 12 Best solution: [1, 1, 1, 1, 1, 1, 1, 1, 1, 1] Fitness: 0.005537098560354375\n",
      "Generation 13 Best solution: [1, 1, 1, 1, 1, 1, 1, 1, 1, 1] Fitness: 0.005291005291005291\n",
      "Generation 14 Best solution: [1, 1, 1, 1, 1, 1, 1, 1, 1, 1] Fitness: 0.00506842372022301\n",
      "Generation 15 Best solution: [1, 1, 1, 1, 1, 1, 1, 1, 1, 1] Fitness: 0.0050025012506253125\n",
      "Generation 16 Best solution: [1, 1, 1, 1, 1, 1, 1, 1, 1, 1] Fitness: 0.005\n",
      "Generation 17 Best solution: [1, 1, 1, 1, 1, 1, 1, 1, 1, 1] Fitness: 0.005\n",
      "Generation 18 Best solution: [1, 1, 1, 1, 1, 1, 1, 1, 1, 1] Fitness: 0.0050025012506253125\n",
      "Generation 19 Best solution: [1, 1, 1, 1, 1, 1, 1, 1, 1, 1] Fitness: 0.005\n",
      "Best solution found: [1, 1, 1, 1, 1, 1, 1, 1, 1, 1]\n"
     ]
    }
   ],
   "source": [
    "best_solution = genetic_algorithm(population_size=100, num_bits=10, tournament_size=5, initial_mutation_rate=0.001, mutation_rate_decay=0.9, num_generations=20)\n",
    "print(\"Best solution found:\", best_solution)"
   ]
  },
  {
   "cell_type": "code",
   "execution_count": null,
   "id": "5e8202dc",
   "metadata": {},
   "outputs": [],
   "source": []
  }
 ],
 "metadata": {
  "kernelspec": {
   "display_name": "Python 3 (ipykernel)",
   "language": "python",
   "name": "python3"
  },
  "language_info": {
   "codemirror_mode": {
    "name": "ipython",
    "version": 3
   },
   "file_extension": ".py",
   "mimetype": "text/x-python",
   "name": "python",
   "nbconvert_exporter": "python",
   "pygments_lexer": "ipython3",
   "version": "3.9.12"
  },
  "toc": {
   "base_numbering": 1,
   "nav_menu": {},
   "number_sections": true,
   "sideBar": true,
   "skip_h1_title": false,
   "title_cell": "Table of Contents",
   "title_sidebar": "Contents",
   "toc_cell": false,
   "toc_position": {},
   "toc_section_display": true,
   "toc_window_display": false
  },
  "varInspector": {
   "cols": {
    "lenName": 16,
    "lenType": 16,
    "lenVar": 40
   },
   "kernels_config": {
    "python": {
     "delete_cmd_postfix": "",
     "delete_cmd_prefix": "del ",
     "library": "var_list.py",
     "varRefreshCmd": "print(var_dic_list())"
    },
    "r": {
     "delete_cmd_postfix": ") ",
     "delete_cmd_prefix": "rm(",
     "library": "var_list.r",
     "varRefreshCmd": "cat(var_dic_list()) "
    }
   },
   "types_to_exclude": [
    "module",
    "function",
    "builtin_function_or_method",
    "instance",
    "_Feature"
   ],
   "window_display": false
  }
 },
 "nbformat": 4,
 "nbformat_minor": 5
}
