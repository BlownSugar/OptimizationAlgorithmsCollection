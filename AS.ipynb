{
 "cells": [
  {
   "cell_type": "code",
   "execution_count": 35,
   "id": "ae80733c",
   "metadata": {
    "ExecuteTime": {
     "end_time": "2023-05-15T01:34:08.076373Z",
     "start_time": "2023-05-15T01:34:08.060374Z"
    }
   },
   "outputs": [],
   "source": [
    "# Graph Search\n",
    "def graph_search(problem):\n",
    "    frontier = [(problem.initial_state(), [])]\n",
    "    explored = set()\n",
    "\n",
    "    while frontier:\n",
    "        state, path = frontier.pop(0)\n",
    "\n",
    "        if problem.goal_test(state):\n",
    "            return path\n",
    "\n",
    "        explored.add(state)\n",
    "\n",
    "        for action, result_state in problem.successor_fn(state):\n",
    "            if result_state not in explored:\n",
    "                new_path = path + [action]\n",
    "                frontier.append((result_state, new_path))\n",
    "\n",
    "    return None"
   ]
  },
  {
   "cell_type": "code",
   "execution_count": 36,
   "id": "c76b4d61",
   "metadata": {
    "ExecuteTime": {
     "end_time": "2023-05-15T01:34:08.100379Z",
     "start_time": "2023-05-15T01:34:08.084389Z"
    }
   },
   "outputs": [],
   "source": [
    "# Tree Search\n",
    "class Node:\n",
    "    def __init__(self, state, parent=None, action=None, path_cost=0):\n",
    "        self.state = state\n",
    "        self.parent = parent\n",
    "        self.action = action\n",
    "        self.path_cost = path_cost\n",
    "\n",
    "    def __repr__(self):\n",
    "        return f\"<Node {self.state}>\"\n",
    "\n",
    "def tree_search(problem, frontier):\n",
    "    start_node = Node(problem.initial_state)\n",
    "    frontier.append(start_node)\n",
    "    explored = set()\n",
    "\n",
    "    while frontier:\n",
    "        node = frontier.pop(0)\n",
    "        if problem.is_goal(node.state):\n",
    "            return node\n",
    "        explored.add(node.state)\n",
    "\n",
    "        for child_state, action, step_cost in problem.get_successors(node.state):\n",
    "            if child_state not in explored:\n",
    "                child_node = Node(child_state, node, action, node.path_cost + step_cost)\n",
    "                frontier.append(child_node)\n",
    "\n",
    "    return None"
   ]
  },
  {
   "cell_type": "code",
   "execution_count": 37,
   "id": "0b8999e0",
   "metadata": {
    "ExecuteTime": {
     "end_time": "2023-05-15T01:34:08.132399Z",
     "start_time": "2023-05-15T01:34:08.100379Z"
    }
   },
   "outputs": [
    {
     "name": "stdout",
     "output_type": "stream",
     "text": [
      "Path: ['C', 'F']\n"
     ]
    }
   ],
   "source": [
    "# DFS\n",
    "from collections import deque\n",
    "\n",
    "def breadth_first_search(graph, start_node, goal_node):\n",
    "    queue = deque([(start_node, [])])  # Initialize the queue with the start node and an empty path\n",
    "    explored = set()  # Set to keep track of explored nodes\n",
    "\n",
    "    while queue:\n",
    "        current_node, path = queue.popleft()  # Get the next node and its corresponding path from the queue\n",
    "\n",
    "        if current_node == goal_node:\n",
    "            return path  # Return the path if the goal node is reached\n",
    "\n",
    "        explored.add(current_node)  # Add the current node to the explored set\n",
    "\n",
    "        for neighbor in graph[current_node]:\n",
    "            if neighbor not in explored:\n",
    "                queue.append((neighbor, path + [neighbor]))  # Add neighbors to the queue with an updated path\n",
    "\n",
    "    return None  # Return None if the goal node is not found\n",
    "\n",
    "graph = {\n",
    "    'A': ['B', 'C'],\n",
    "    'B': ['D', 'E'],\n",
    "    'C': ['F'],\n",
    "    'D': [],\n",
    "    'E': ['F'],\n",
    "    'F': []\n",
    "}\n",
    "\n",
    "start_node = 'A'\n",
    "goal_node = 'F'\n",
    "path = breadth_first_search(graph, start_node, goal_node)\n",
    "print(\"Path:\", path)"
   ]
  },
  {
   "cell_type": "code",
   "execution_count": 38,
   "id": "3dc1a957",
   "metadata": {
    "ExecuteTime": {
     "end_time": "2023-05-15T01:34:08.158974Z",
     "start_time": "2023-05-15T01:34:08.140381Z"
    }
   },
   "outputs": [
    {
     "name": "stdout",
     "output_type": "stream",
     "text": [
      "Path: ['C', 'F']\n"
     ]
    }
   ],
   "source": [
    "def depth_first_search(graph, start_node, goal_node):\n",
    "    stack = [(start_node, [])]  # Initialize the stack with the start node and an empty path\n",
    "    explored = set()  # Set to keep track of explored nodes\n",
    "\n",
    "    while stack:\n",
    "        current_node, path = stack.pop()  # Get the next node and its corresponding path from the stack\n",
    "\n",
    "        if current_node == goal_node:\n",
    "            return path  # Return the path if the goal node is reached\n",
    "\n",
    "        explored.add(current_node)  # Add the current node to the explored set\n",
    "\n",
    "        for neighbor in graph[current_node]:\n",
    "            if neighbor not in explored:\n",
    "                stack.append((neighbor, path + [neighbor]))  # Add neighbors to the stack with an updated path\n",
    "\n",
    "    return None  # Return None if the goal node is not found\n",
    "\n",
    "graph = {\n",
    "    'A': ['B', 'C'],\n",
    "    'B': ['D', 'E'],\n",
    "    'C': ['F'],\n",
    "    'D': [],\n",
    "    'E': ['F'],\n",
    "    'F': []\n",
    "}\n",
    "start_node = 'A'\n",
    "goal_node = 'F'\n",
    "path = depth_first_search(graph, start_node, goal_node)\n",
    "print(\"Path:\", path)"
   ]
  },
  {
   "cell_type": "code",
   "execution_count": 39,
   "id": "e4251c50",
   "metadata": {
    "ExecuteTime": {
     "end_time": "2023-05-15T01:34:08.182975Z",
     "start_time": "2023-05-15T01:34:08.158974Z"
    }
   },
   "outputs": [
    {
     "name": "stdout",
     "output_type": "stream",
     "text": [
      "Path: ['A', 'B', 'E', 'F']\n"
     ]
    }
   ],
   "source": [
    "def depth_limited_search(graph, start_node, goal_node, depth_limit):\n",
    "    return recursive_dls(graph, start_node, goal_node, depth_limit)\n",
    "\n",
    "def recursive_dls(graph, current_node, goal_node, depth_limit):\n",
    "    if current_node == goal_node:\n",
    "        return [current_node]\n",
    "\n",
    "    if depth_limit == 0:\n",
    "        return []\n",
    "\n",
    "    if depth_limit > 0:\n",
    "        for neighbor in graph[current_node]:\n",
    "            path = recursive_dls(graph, neighbor, goal_node, depth_limit - 1)\n",
    "            if path:\n",
    "                return [current_node] + path\n",
    "\n",
    "    return []\n",
    "\n",
    "graph = {\n",
    "    'A': ['B', 'C'],\n",
    "    'B': ['D', 'E'],\n",
    "    'C': ['F'],\n",
    "    'D': [],\n",
    "    'E': ['F'],\n",
    "    'F': []\n",
    "}\n",
    "\n",
    "start_node = 'A'\n",
    "goal_node = 'F'\n",
    "depth_limit = 3\n",
    "path = depth_limited_search(graph, start_node, goal_node, depth_limit)\n",
    "print(\"Path:\", path)"
   ]
  },
  {
   "cell_type": "code",
   "execution_count": 40,
   "id": "f7dc18cf",
   "metadata": {
    "ExecuteTime": {
     "end_time": "2023-05-15T01:34:08.206980Z",
     "start_time": "2023-05-15T01:34:08.182975Z"
    }
   },
   "outputs": [
    {
     "name": "stdout",
     "output_type": "stream",
     "text": [
      "Path: ['A', 'B', 'D', 'G']\n"
     ]
    }
   ],
   "source": [
    "# UCS (Uniform Cost Search)\n",
    "from queue import PriorityQueue\n",
    "\n",
    "def uniform_cost_search(graph, start_node, goal_node):\n",
    "    frontier = PriorityQueue()  # Priority queue to store nodes based on their path cost\n",
    "    frontier.put((0, start_node))  # Add the start node to the frontier with a priority of 0\n",
    "    explored = set()  # Set to keep track of explored nodes\n",
    "    path_cost = {start_node: (0, None)}  # Dictionary to store the path cost and parent node of each node\n",
    "\n",
    "    while not frontier.empty():\n",
    "        _, current_node = frontier.get()  # Get the node with the lowest path cost from the frontier\n",
    "\n",
    "        if current_node == goal_node:\n",
    "            return reconstruct_path(start_node, goal_node, path_cost)  # Return the path if the goal node is reached\n",
    "\n",
    "        explored.add(current_node)  # Add the current node to the explored set\n",
    "\n",
    "        for neighbor, cost in graph[current_node].items():\n",
    "            new_cost = path_cost[current_node][0] + cost\n",
    "\n",
    "            if neighbor not in explored and (neighbor not in path_cost or new_cost < path_cost[neighbor][0]):\n",
    "                path_cost[neighbor] = (new_cost, current_node)\n",
    "                frontier.put((new_cost, neighbor))  # Add the neighbor to the frontier with its updated path cost\n",
    "\n",
    "    return None  # Return None if the goal node is not found\n",
    "\n",
    "def reconstruct_path(start_node, goal_node, path_cost):\n",
    "    path = [goal_node]\n",
    "    current_node = goal_node\n",
    "\n",
    "    while current_node != start_node:\n",
    "        current_node = path_cost[current_node][1]  # Get the parent node of the current node\n",
    "        path.append(current_node)\n",
    "\n",
    "    path.reverse()\n",
    "    return path\n",
    "\n",
    "\n",
    "# Example usage:\n",
    "graph = {\n",
    "    'A': {'B': 5, 'C': 3},\n",
    "    'B': {'D': 2, 'E': 4},\n",
    "    'C': {'F': 6},\n",
    "    'D': {'G': 1},\n",
    "    'E': {'F': 3},\n",
    "    'F': {'G': 2},\n",
    "    'G': {}\n",
    "}\n",
    "\n",
    "start_node = 'A'\n",
    "goal_node = 'G'\n",
    "path = uniform_cost_search(graph, start_node, goal_node)\n",
    "print(\"Path:\", path)"
   ]
  },
  {
   "cell_type": "code",
   "execution_count": 41,
   "id": "bc12dc3b",
   "metadata": {
    "ExecuteTime": {
     "end_time": "2023-05-15T01:34:08.230981Z",
     "start_time": "2023-05-15T01:34:08.206980Z"
    }
   },
   "outputs": [
    {
     "name": "stdout",
     "output_type": "stream",
     "text": [
      "Path: ['A', 'C', 'F', 'G']\n"
     ]
    }
   ],
   "source": [
    "# IDDFS (Iterative deepening depth-first search algorithm)\n",
    "def iterative_deepening_dfs(graph, start_node, goal_node):\n",
    "    depth_limit = 0  # Initialize the depth limit\n",
    "\n",
    "    while True:\n",
    "        result = depth_limited_dfs(graph, start_node, goal_node, depth_limit)\n",
    "        if result is not None:\n",
    "            return result  # Return the result if a path is found\n",
    "        depth_limit += 1  # Increase the depth limit if a path is not found\n",
    "\n",
    "    return None  # Return None if no path is found within the depth limit\n",
    "\n",
    "\n",
    "def depth_limited_dfs(graph, current_node, goal_node, depth_limit, depth=0, path=[]):\n",
    "    if current_node == goal_node:\n",
    "        return path + [current_node]  # Return the path if the goal node is reached\n",
    "\n",
    "    if depth == depth_limit:\n",
    "        return None  # Return None if the depth limit is reached\n",
    "\n",
    "    if depth < depth_limit:\n",
    "        path = path + [current_node]  # Append the current node to the path\n",
    "\n",
    "        for neighbor in graph[current_node]:\n",
    "            result = depth_limited_dfs(graph, neighbor, goal_node, depth_limit, depth + 1, path)\n",
    "\n",
    "            if result is not None:\n",
    "                return result  # Return the result if a path is found\n",
    "\n",
    "    return None  # Return None if no path is found\n",
    "\n",
    "graph = {\n",
    "    'A': ['B', 'C'],\n",
    "    'B': ['D', 'E'],\n",
    "    'C': ['F'],\n",
    "    'D': [],\n",
    "    'E': [],\n",
    "    'F': ['G'],\n",
    "    'G': []\n",
    "}\n",
    "\n",
    "start_node = 'A'\n",
    "goal_node = 'G'\n",
    "path = iterative_deepening_dfs(graph, start_node, goal_node)\n",
    "print(\"Path:\", path)"
   ]
  },
  {
   "cell_type": "code",
   "execution_count": 42,
   "id": "0ee00188",
   "metadata": {
    "ExecuteTime": {
     "end_time": "2023-05-15T01:34:08.266756Z",
     "start_time": "2023-05-15T01:34:08.230981Z"
    }
   },
   "outputs": [
    {
     "name": "stdout",
     "output_type": "stream",
     "text": [
      "Path: ['A', 'B', 'D', 'D', 'E', 'F', 'G']\n"
     ]
    }
   ],
   "source": [
    "# BDS (Bi-Directional search algorithm)\n",
    "from collections import deque\n",
    "\n",
    "def bidirectional_search(graph, start_node, goal_node):\n",
    "    forward_queue = deque([start_node])  # Queue for forward search\n",
    "    backward_queue = deque([goal_node])  # Queue for backward search\n",
    "    forward_visited = set([start_node])  # Set to store visited nodes for forward search\n",
    "    backward_visited = set([goal_node])  # Set to store visited nodes for backward search\n",
    "    forward_parent = {start_node: None}  # Dictionary to store parent nodes for forward search\n",
    "    backward_parent = {goal_node: None}  # Dictionary to store parent nodes for backward search\n",
    "\n",
    "    intersect_node = None  # Common node between forward and backward search\n",
    "\n",
    "    while forward_queue and backward_queue:\n",
    "        # Perform forward search\n",
    "        forward_node = forward_queue.popleft()\n",
    "\n",
    "        # Check if forward search intersects with backward search\n",
    "        if forward_node in backward_visited:\n",
    "            intersect_node = forward_node\n",
    "            break\n",
    "\n",
    "        # Add unvisited neighboring nodes to forward queue\n",
    "        for neighbor in graph[forward_node]:\n",
    "            if neighbor not in forward_visited:\n",
    "                forward_queue.append(neighbor)\n",
    "                forward_visited.add(neighbor)\n",
    "                forward_parent[neighbor] = forward_node\n",
    "\n",
    "        # Perform backward search\n",
    "        backward_node = backward_queue.popleft()\n",
    "\n",
    "        # Check if backward search intersects with forward search\n",
    "        if backward_node in forward_visited:\n",
    "            intersect_node = backward_node\n",
    "            break\n",
    "\n",
    "        # Add unvisited neighboring nodes to backward queue\n",
    "        for neighbor in graph[backward_node]:\n",
    "            if neighbor not in backward_visited:\n",
    "                backward_queue.append(neighbor)\n",
    "                backward_visited.add(neighbor)\n",
    "                backward_parent[neighbor] = backward_node\n",
    "\n",
    "    # If there is an intersection node, construct the path\n",
    "    if intersect_node is not None:\n",
    "        forward_path = reconstruct_path(start_node, intersect_node, forward_parent)\n",
    "        backward_path = reconstruct_path(goal_node, intersect_node, backward_parent)\n",
    "        backward_path.reverse()\n",
    "        return forward_path + backward_path\n",
    "\n",
    "    return None  # Return None if no path is found\n",
    "\n",
    "\n",
    "def reconstruct_path(start_node, goal_node, parent):\n",
    "    path = []\n",
    "    current_node = goal_node\n",
    "\n",
    "    while current_node != start_node:\n",
    "        path.append(current_node)\n",
    "        current_node = parent[current_node]\n",
    "\n",
    "    path.append(start_node)\n",
    "    path.reverse()\n",
    "    return path\n",
    "\n",
    "graph = {\n",
    "    'A': {'B': 1, 'C': 2},\n",
    "    'B': {'A': 1, 'D': 3},\n",
    "    'C': {'A': 2, 'D': 1},\n",
    "    'D': {'B': 3, 'C': 1, 'E': 2},\n",
    "    'E': {'D': 2, 'F': 3},\n",
    "    'F': {'E': 3, 'G': 2},\n",
    "    'G': {'F': 2}\n",
    "}\n",
    "\n",
    "start_node = 'A'\n",
    "goal_node = 'G'\n",
    "path = bidirectional_search(graph, start_node, goal_node)\n",
    "print(\"Path:\", path)"
   ]
  },
  {
   "cell_type": "code",
   "execution_count": 43,
   "id": "038a3c4d",
   "metadata": {
    "ExecuteTime": {
     "end_time": "2023-05-15T01:34:08.298128Z",
     "start_time": "2023-05-15T01:34:08.266756Z"
    }
   },
   "outputs": [
    {
     "name": "stdout",
     "output_type": "stream",
     "text": [
      "Path: ['A', 'C', 'E', 'G', 'H']\n"
     ]
    }
   ],
   "source": [
    "from queue import PriorityQueue\n",
    "\n",
    "def greedy_bfs(graph, start_node, goal_node, heuristic):\n",
    "    visited = set()\n",
    "    queue = PriorityQueue()\n",
    "    queue.put((heuristic[start_node], start_node))  # Enqueue start node with heuristic value\n",
    "\n",
    "    while not queue.empty():\n",
    "        _, current_node = queue.get()\n",
    "\n",
    "        if current_node == goal_node:\n",
    "            # Goal node found, return the path\n",
    "            return get_path(graph, start_node, goal_node)\n",
    "\n",
    "        visited.add(current_node)\n",
    "\n",
    "        for neighbor in graph[current_node]:\n",
    "            if neighbor not in visited:\n",
    "                queue.put((heuristic[neighbor], neighbor))\n",
    "\n",
    "    return None  # No path found\n",
    "\n",
    "\n",
    "def get_path(graph, start_node, goal_node):\n",
    "    path = []\n",
    "    current_node = goal_node\n",
    "\n",
    "    while current_node != start_node:\n",
    "        path.append(current_node)\n",
    "        current_node = next(iter(graph[current_node]))\n",
    "\n",
    "    path.append(start_node)\n",
    "    path.reverse()\n",
    "    return path\n",
    "\n",
    "\n",
    "graph = {\n",
    "    'A': {'B', 'C'},\n",
    "    'B': {'A', 'D'},\n",
    "    'C': {'A', 'E'},\n",
    "    'D': {'B', 'F'},\n",
    "    'E': {'C', 'G'},\n",
    "    'F': {'D'},\n",
    "    'G': {'E', 'H'},\n",
    "    'H': {'G'}\n",
    "}\n",
    "\n",
    "heuristic = {\n",
    "    'A': 8,\n",
    "    'B': 6,\n",
    "    'C': 4,\n",
    "    'D': 4,\n",
    "    'E': 6,\n",
    "    'F': 2,\n",
    "    'G': 4,\n",
    "    'H': 0\n",
    "}\n",
    "\n",
    "start_node = 'A'\n",
    "goal_node = 'H'\n",
    "path = greedy_bfs(graph, start_node, goal_node, heuristic)\n",
    "print(\"Path:\", path)\n"
   ]
  },
  {
   "cell_type": "code",
   "execution_count": 44,
   "id": "776353b7",
   "metadata": {
    "ExecuteTime": {
     "end_time": "2023-05-15T01:34:08.324674Z",
     "start_time": "2023-05-15T01:34:08.298128Z"
    }
   },
   "outputs": [
    {
     "name": "stdout",
     "output_type": "stream",
     "text": [
      "Path: ['A', 'B', 'D', 'G']\n"
     ]
    }
   ],
   "source": [
    "# A* Search Algorithm\n",
    "from queue import PriorityQueue\n",
    "\n",
    "def a_star_search(graph, start_node, goal_node, heuristic):\n",
    "    visited = set()\n",
    "    queue = PriorityQueue()\n",
    "    queue.put((0, start_node, [start_node]))  # Enqueue start node with initial cost and path\n",
    "\n",
    "    while not queue.empty():\n",
    "        _, current_node, path = queue.get()\n",
    "\n",
    "        if current_node == goal_node:\n",
    "            # Goal node found, return the path\n",
    "            return path\n",
    "\n",
    "        if current_node not in visited:\n",
    "            visited.add(current_node)\n",
    "\n",
    "            for neighbor, cost in graph[current_node].items():\n",
    "                if neighbor not in visited:\n",
    "                    total_cost = len(path) + cost + heuristic[neighbor]\n",
    "                    queue.put((total_cost, neighbor, path + [neighbor]))\n",
    "\n",
    "    return None  # No path found\n",
    "\n",
    "\n",
    "graph = {\n",
    "    'A': {'B': 5, 'C': 3},\n",
    "    'B': {'D': 2, 'E': 4},\n",
    "    'C': {'F': 6},\n",
    "    'D': {'G': 1},\n",
    "    'E': {'G': 3},\n",
    "    'F': {'G': 7},\n",
    "    'G': {}\n",
    "}\n",
    "\n",
    "heuristic = {\n",
    "    'A': 7,\n",
    "    'B': 4,\n",
    "    'C': 2,\n",
    "    'D': 1,\n",
    "    'E': 4,\n",
    "    'F': 5,\n",
    "    'G': 0\n",
    "}\n",
    "\n",
    "start_node = 'A'\n",
    "goal_node = 'G'\n",
    "path = a_star_search(graph, start_node, goal_node, heuristic)\n",
    "print(\"Path:\", path)"
   ]
  },
  {
   "cell_type": "code",
   "execution_count": null,
   "id": "231c2706",
   "metadata": {},
   "outputs": [],
   "source": []
  }
 ],
 "metadata": {
  "kernelspec": {
   "display_name": "Python 3",
   "language": "python",
   "name": "python3"
  },
  "language_info": {
   "codemirror_mode": {
    "name": "ipython",
    "version": 3
   },
   "file_extension": ".py",
   "mimetype": "text/x-python",
   "name": "python",
   "nbconvert_exporter": "python",
   "pygments_lexer": "ipython3",
   "version": "3.8.8"
  },
  "toc": {
   "base_numbering": 1,
   "nav_menu": {},
   "number_sections": true,
   "sideBar": true,
   "skip_h1_title": false,
   "title_cell": "Table of Contents",
   "title_sidebar": "Contents",
   "toc_cell": false,
   "toc_position": {},
   "toc_section_display": true,
   "toc_window_display": false
  },
  "varInspector": {
   "cols": {
    "lenName": 16,
    "lenType": 16,
    "lenVar": 40
   },
   "kernels_config": {
    "python": {
     "delete_cmd_postfix": "",
     "delete_cmd_prefix": "del ",
     "library": "var_list.py",
     "varRefreshCmd": "print(var_dic_list())"
    },
    "r": {
     "delete_cmd_postfix": ") ",
     "delete_cmd_prefix": "rm(",
     "library": "var_list.r",
     "varRefreshCmd": "cat(var_dic_list()) "
    }
   },
   "types_to_exclude": [
    "module",
    "function",
    "builtin_function_or_method",
    "instance",
    "_Feature"
   ],
   "window_display": false
  }
 },
 "nbformat": 4,
 "nbformat_minor": 5
}
