{
 "cells": [
  {
   "cell_type": "code",
   "execution_count": 1,
   "id": "bd30ae8c",
   "metadata": {
    "ExecuteTime": {
     "end_time": "2023-04-05T03:05:58.792309Z",
     "start_time": "2023-04-05T03:05:58.502733Z"
    }
   },
   "outputs": [],
   "source": [
    "import numpy as np\n",
    "import random\n",
    "\n",
    "class AntColonyOptimizer:\n",
    "    \n",
    "    def __init__(self, num_ants, num_iterations, decay_factor, alpha, beta, q, pheromone_init):\n",
    "        self.num_ants = num_ants\n",
    "        self.num_iterations = num_iterations\n",
    "        self.decay_factor = decay_factor\n",
    "        self.alpha = alpha\n",
    "        self.beta = beta\n",
    "        self.q = q\n",
    "        self.pheromone_init = pheromone_init\n",
    "    \n",
    "    def optimize(self, distance_matrix):\n",
    "        num_cities = distance_matrix.shape[0]\n",
    "        pheromone_matrix = np.full((num_cities, num_cities), self.pheromone_init)\n",
    "        best_distance = float('inf')\n",
    "        best_path = None\n",
    "        \n",
    "        for iteration in range(self.num_iterations):\n",
    "            ant_paths = []\n",
    "            ant_distances = []\n",
    "            for ant in range(self.num_ants):\n",
    "                path = self._build_path(pheromone_matrix, distance_matrix)\n",
    "                ant_paths.append(path)\n",
    "                distance = self._compute_distance(path, distance_matrix)\n",
    "                ant_distances.append(distance)\n",
    "                if distance < best_distance:\n",
    "                    best_distance = distance\n",
    "                    best_path = path\n",
    "            \n",
    "            pheromone_matrix *= self.decay_factor\n",
    "            for path, distance in zip(ant_paths, ant_distances):\n",
    "                pheromone_delta = self.q / distance\n",
    "                for i in range(num_cities - 1):\n",
    "                    j = i + 1\n",
    "                    city_i = path[i]\n",
    "                    city_j = path[j]\n",
    "                    pheromone_matrix[city_i][city_j] += pheromone_delta\n",
    "            \n",
    "        return best_distance, best_path\n",
    "    \n",
    "    def _build_path(self, pheromone_matrix, distance_matrix):\n",
    "        num_cities = distance_matrix.shape[0]\n",
    "        visited_cities = set()\n",
    "        current_city = random.randint(0, num_cities - 1)\n",
    "        path = [current_city]\n",
    "        visited_cities.add(current_city)\n",
    "        \n",
    "        while len(visited_cities) < num_cities:\n",
    "            unvisited_cities = set(range(num_cities)) - visited_cities\n",
    "            pheromone_values = [pheromone_matrix[current_city][j] ** self.alpha for j in unvisited_cities]\n",
    "            distance_values = [distance_matrix[current_city][j] ** -self.beta for j in unvisited_cities]\n",
    "            probabilities = np.multiply(pheromone_values, distance_values)\n",
    "            probabilities /= np.sum(probabilities)\n",
    "            next_city = np.random.choice(list(unvisited_cities), p=probabilities)\n",
    "            path.append(next_city)\n",
    "            visited_cities.add(next_city)\n",
    "            current_city = next_city\n",
    "        \n",
    "        return path\n",
    "    \n",
    "    def _compute_distance(self, path, distance_matrix):\n",
    "        distance = 0\n",
    "        for i in range(len(path) - 1):\n",
    "            j = i + 1\n",
    "            city_i = path[i]\n",
    "            city_j = path[j]\n",
    "            distance += distance_matrix[city_i][city_j]\n",
    "        return distance"
   ]
  },
  {
   "cell_type": "code",
   "execution_count": 2,
   "id": "4ee9d0af",
   "metadata": {
    "ExecuteTime": {
     "end_time": "2023-04-05T22:22:42.597262Z",
     "start_time": "2023-04-05T03:05:58.958329Z"
    }
   },
   "outputs": [
    {
     "name": "stdout",
     "output_type": "stream",
     "text": [
      "Best distance: 1.0631157371752793\n",
      "Best path: [7, 1, 0, 4, 8, 2, 5, 3, 6, 9]\n"
     ]
    }
   ],
   "source": [
    "num_cities = 10\n",
    "distance_matrix = np.random.rand(num_cities, num_cities)\n",
    "\n",
    "optimizer = AntColonyOptimizer(num_ants=2000000, num_iterations=100, decay_factor=0.5, alpha=1.0, beta=2.0, q=100, pheromone_init=0.1)\n",
    "\n",
    "best_distance, best_path = optimizer.optimize(distance_matrix)\n",
    "\n",
    "print(\"Best distance:\", best_distance)\n",
    "print(\"Best path:\", best_path)"
   ]
  },
  {
   "cell_type": "code",
   "execution_count": null,
   "id": "3cacc0b7",
   "metadata": {},
   "outputs": [],
   "source": []
  }
 ],
 "metadata": {
  "kernelspec": {
   "display_name": "Python 3 (ipykernel)",
   "language": "python",
   "name": "python3"
  },
  "language_info": {
   "codemirror_mode": {
    "name": "ipython",
    "version": 3
   },
   "file_extension": ".py",
   "mimetype": "text/x-python",
   "name": "python",
   "nbconvert_exporter": "python",
   "pygments_lexer": "ipython3",
   "version": "3.9.7"
  },
  "toc": {
   "base_numbering": 1,
   "nav_menu": {},
   "number_sections": true,
   "sideBar": true,
   "skip_h1_title": false,
   "title_cell": "Table of Contents",
   "title_sidebar": "Contents",
   "toc_cell": false,
   "toc_position": {},
   "toc_section_display": true,
   "toc_window_display": false
  },
  "varInspector": {
   "cols": {
    "lenName": 16,
    "lenType": 16,
    "lenVar": 40
   },
   "kernels_config": {
    "python": {
     "delete_cmd_postfix": "",
     "delete_cmd_prefix": "del ",
     "library": "var_list.py",
     "varRefreshCmd": "print(var_dic_list())"
    },
    "r": {
     "delete_cmd_postfix": ") ",
     "delete_cmd_prefix": "rm(",
     "library": "var_list.r",
     "varRefreshCmd": "cat(var_dic_list()) "
    }
   },
   "types_to_exclude": [
    "module",
    "function",
    "builtin_function_or_method",
    "instance",
    "_Feature"
   ],
   "window_display": false
  }
 },
 "nbformat": 4,
 "nbformat_minor": 5
}
